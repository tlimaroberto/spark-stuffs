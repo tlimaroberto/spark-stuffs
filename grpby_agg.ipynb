{
  "nbformat": 4,
  "nbformat_minor": 0,
  "metadata": {
    "colab": {
      "name": "grpby_agg.ipynb",
      "provenance": [],
      "collapsed_sections": [],
      "toc_visible": true,
      "include_colab_link": true
    },
    "kernelspec": {
      "name": "python3",
      "display_name": "Python 3"
    }
  },
  "cells": [
    {
      "cell_type": "markdown",
      "metadata": {
        "id": "view-in-github",
        "colab_type": "text"
      },
      "source": [
        "<a href=\"https://colab.research.google.com/github/tlimaroberto/spark-stuffs/blob/main/grpby_agg.ipynb\" target=\"_parent\"><img src=\"https://colab.research.google.com/assets/colab-badge.svg\" alt=\"Open In Colab\"/></a>"
      ]
    },
    {
      "cell_type": "code",
      "metadata": {
        "colab": {
          "base_uri": "https://localhost:8080/",
          "height": 610
        },
        "id": "LCabCyryHGwk",
        "outputId": "061ac436-f6d9-4fd0-d6df-bce8d786e4ba"
      },
      "source": [
        "!apt update\n",
        "!apt install openjdk-8-jdk-headless -qq > /dev/null\n",
        "!wget -q https://archive.apache.org/dist/spark/spark-2.3.1/spark-2.3.1-bin-hadoop2.7.tgz\n",
        "!tar xf spark-2.3.1-bin-hadoop2.7.tgz\n",
        "!pip install -q findspark\n",
        "\n",
        "import os\n",
        "\n",
        "os.environ[\"JAVA_HOME\"]= \"/usr/lib/jvm/java-8-openjdk-amd64/\"\n",
        "os.environ[\"SPARK_HOME\"]= \"/content/spark-2.3.1-bin-hadoop2.7/\"\n",
        "\n",
        "!ls\n",
        "\n",
        "import findspark\n",
        "findspark.init()\n",
        "\n",
        "import pyspark\n",
        "from pyspark.sql import SparkSession\n",
        "spark = SparkSession.builder.getOrCreate()\n",
        "spark\n"
      ],
      "execution_count": 17,
      "outputs": [
        {
          "output_type": "stream",
          "text": [
            "\u001b[33m\r0% [Working]\u001b[0m\r            \rHit:1 https://cloud.r-project.org/bin/linux/ubuntu bionic-cran40/ InRelease\n",
            "\u001b[33m\r0% [Connecting to archive.ubuntu.com (91.189.88.152)] [Connecting to security.u\u001b[0m\r                                                                               \rIgn:2 https://developer.download.nvidia.com/compute/cuda/repos/ubuntu1804/x86_64  InRelease\n",
            "\u001b[33m\r0% [Connecting to archive.ubuntu.com (91.189.88.152)] [Connecting to security.u\u001b[0m\u001b[33m\r0% [1 InRelease gpgv 3,626 B] [Connecting to archive.ubuntu.com (91.189.88.152)\u001b[0m\r                                                                               \rIgn:3 https://developer.download.nvidia.com/compute/machine-learning/repos/ubuntu1804/x86_64  InRelease\n",
            "\u001b[33m\r0% [1 InRelease gpgv 3,626 B] [Connecting to archive.ubuntu.com (91.189.88.152)\u001b[0m\r                                                                               \rHit:4 https://developer.download.nvidia.com/compute/cuda/repos/ubuntu1804/x86_64  Release\n",
            "Hit:5 https://developer.download.nvidia.com/compute/machine-learning/repos/ubuntu1804/x86_64  Release\n",
            "Hit:6 http://archive.ubuntu.com/ubuntu bionic InRelease\n",
            "Hit:7 http://security.ubuntu.com/ubuntu bionic-security InRelease\n",
            "Hit:8 http://archive.ubuntu.com/ubuntu bionic-updates InRelease\n",
            "Hit:9 http://ppa.launchpad.net/c2d4u.team/c2d4u4.0+/ubuntu bionic InRelease\n",
            "Hit:11 http://archive.ubuntu.com/ubuntu bionic-backports InRelease\n",
            "Hit:13 http://ppa.launchpad.net/cran/libgit2/ubuntu bionic InRelease\n",
            "Hit:14 http://ppa.launchpad.net/graphics-drivers/ppa/ubuntu bionic InRelease\n",
            "Reading package lists... Done\n",
            "Building dependency tree       \n",
            "Reading state information... Done\n",
            "27 packages can be upgraded. Run 'apt list --upgradable' to see them.\n",
            "\n",
            "WARNING: apt does not have a stable CLI interface. Use with caution in scripts.\n",
            "\n",
            "sample_data\t\t       spark-2.3.1-bin-hadoop2.7.tgz.1\n",
            "spark-2.3.1-bin-hadoop2.7      spark-2.3.1-bin-hadoop2.7.tgz.2\n",
            "spark-2.3.1-bin-hadoop2.7.tgz  spark-warehouse\n"
          ],
          "name": "stdout"
        },
        {
          "output_type": "execute_result",
          "data": {
            "text/html": [
              "\n",
              "            <div>\n",
              "                <p><b>SparkSession - in-memory</b></p>\n",
              "                \n",
              "        <div>\n",
              "            <p><b>SparkContext</b></p>\n",
              "\n",
              "            <p><a href=\"http://64650532f206:4040\">Spark UI</a></p>\n",
              "\n",
              "            <dl>\n",
              "              <dt>Version</dt>\n",
              "                <dd><code>v2.3.1</code></dd>\n",
              "              <dt>Master</dt>\n",
              "                <dd><code>local[*]</code></dd>\n",
              "              <dt>AppName</dt>\n",
              "                <dd><code>pyspark-shell</code></dd>\n",
              "            </dl>\n",
              "        </div>\n",
              "        \n",
              "            </div>\n",
              "        "
            ],
            "text/plain": [
              "<pyspark.sql.session.SparkSession at 0x7f7a11965c18>"
            ]
          },
          "metadata": {
            "tags": []
          },
          "execution_count": 17
        }
      ]
    },
    {
      "cell_type": "code",
      "metadata": {
        "id": "U_4363FbRzri",
        "outputId": "f4718c93-45e2-4c3e-cc93-bf44d9f7ffe5",
        "colab": {
          "base_uri": "https://localhost:8080/"
        }
      },
      "source": [
        "!wget -O /tmp/challenge.csv 'https://github.com/tlimaroberto/spark-stuffs/blob/main/challenge.csv?raw=True'"
      ],
      "execution_count": 18,
      "outputs": [
        {
          "output_type": "stream",
          "text": [
            "--2021-01-07 00:42:10--  https://github.com/tlimaroberto/spark-stuffs/blob/main/challenge.csv?raw=True\n",
            "Resolving github.com (github.com)... 140.82.114.4\n",
            "Connecting to github.com (github.com)|140.82.114.4|:443... connected.\n",
            "HTTP request sent, awaiting response... 302 Found\n",
            "Location: https://github.com/tlimaroberto/spark-stuffs/raw/main/challenge.csv [following]\n",
            "--2021-01-07 00:42:10--  https://github.com/tlimaroberto/spark-stuffs/raw/main/challenge.csv\n",
            "Reusing existing connection to github.com:443.\n",
            "HTTP request sent, awaiting response... 302 Found\n",
            "Location: https://raw.githubusercontent.com/tlimaroberto/spark-stuffs/main/challenge.csv [following]\n",
            "--2021-01-07 00:42:10--  https://raw.githubusercontent.com/tlimaroberto/spark-stuffs/main/challenge.csv\n",
            "Resolving raw.githubusercontent.com (raw.githubusercontent.com)... 151.101.0.133, 151.101.64.133, 151.101.128.133, ...\n",
            "Connecting to raw.githubusercontent.com (raw.githubusercontent.com)|151.101.0.133|:443... connected.\n",
            "HTTP request sent, awaiting response... 200 OK\n",
            "Length: 38621 (38K) [text/plain]\n",
            "Saving to: ‘/tmp/challenge.csv’\n",
            "\n",
            "/tmp/challenge.csv  100%[===================>]  37.72K  --.-KB/s    in 0.001s  \n",
            "\n",
            "2021-01-07 00:42:10 (26.5 MB/s) - ‘/tmp/challenge.csv’ saved [38621/38621]\n",
            "\n"
          ],
          "name": "stdout"
        }
      ]
    },
    {
      "cell_type": "code",
      "metadata": {
        "id": "hqxbasSLP2nX"
      },
      "source": [
        "df = spark.read.csv('/tmp/challenge.csv', header = True)"
      ],
      "execution_count": 19,
      "outputs": []
    },
    {
      "cell_type": "code",
      "metadata": {
        "colab": {
          "base_uri": "https://localhost:8080/"
        },
        "id": "yokYUmYoQtZ0",
        "outputId": "c0dcb1ff-6628-493b-eb71-222f3e85ab9d"
      },
      "source": [
        "df.show()"
      ],
      "execution_count": 20,
      "outputs": [
        {
          "output_type": "stream",
          "text": [
            "+---------------+--------------+-----------------+----------+\n",
            "|     ip_address|       Country|      Domain Name|Bytes_used|\n",
            "+---------------+--------------+-----------------+----------+\n",
            "|  52.81.192.172|         China| odnoklassniki.ru|       463|\n",
            "| 119.239.207.13|         China|         youtu.be|        51|\n",
            "|  68.69.217.210|         China|        adobe.com|        10|\n",
            "|   7.191.21.223|      Bulgaria|     linkedin.com|       853|\n",
            "|   211.13.10.68|     Indonesia|          hud.gov|        29|\n",
            "|   239.80.21.97|      Suriname|       smh.com.au|       218|\n",
            "|106.214.106.233|       Jamaica|    amazonaws.com|        95|\n",
            "| 127.242.24.138|         China| surveymonkey.com|       123|\n",
            "|     99.2.6.139|Czech Republic|     geocities.jp|       322|\n",
            "|   237.54.11.63|         China|       amazon.com|        83|\n",
            "| 252.141.157.25|         Japan|      cornell.edu|       374|\n",
            "|185.220.128.248|       Belgium|       weebly.com|       389|\n",
            "|   151.77.19.45|   Afghanistan|independent.co.uk|       282|\n",
            "|  9.161.158.225|     Indonesia|    bloglines.com|       726|\n",
            "| 156.144.61.155|Czech Republic|   slideshare.net|       657|\n",
            "|   8.96.188.151|     Indonesia|          ibm.com|       517|\n",
            "|      5.72.7.65|        Mexico|         youtu.be|       877|\n",
            "|227.110.112.144|       Croatia|         ehow.com|       287|\n",
            "|    81.71.28.97|      Thailand|          last.fm|       588|\n",
            "|  9.255.129.184|      Thailand|          mtv.com|       114|\n",
            "+---------------+--------------+-----------------+----------+\n",
            "only showing top 20 rows\n",
            "\n"
          ],
          "name": "stdout"
        }
      ]
    },
    {
      "cell_type": "code",
      "metadata": {
        "id": "BLn2QKRvRXlk"
      },
      "source": [
        "from pyspark.sql.functions import *\n",
        "df = df.withColumn('is_Mexico', when(df.Country == 'Mexico','yes').otherwise('no'))"
      ],
      "execution_count": 21,
      "outputs": []
    },
    {
      "cell_type": "code",
      "metadata": {
        "colab": {
          "base_uri": "https://localhost:8080/"
        },
        "id": "DAFE8lerRi5m",
        "outputId": "580f2ba5-e250-4162-ea02-b8fc39fb37a4"
      },
      "source": [
        "df.show()"
      ],
      "execution_count": 22,
      "outputs": [
        {
          "output_type": "stream",
          "text": [
            "+---------------+--------------+-----------------+----------+---------+\n",
            "|     ip_address|       Country|      Domain Name|Bytes_used|is_Mexico|\n",
            "+---------------+--------------+-----------------+----------+---------+\n",
            "|  52.81.192.172|         China| odnoklassniki.ru|       463|       no|\n",
            "| 119.239.207.13|         China|         youtu.be|        51|       no|\n",
            "|  68.69.217.210|         China|        adobe.com|        10|       no|\n",
            "|   7.191.21.223|      Bulgaria|     linkedin.com|       853|       no|\n",
            "|   211.13.10.68|     Indonesia|          hud.gov|        29|       no|\n",
            "|   239.80.21.97|      Suriname|       smh.com.au|       218|       no|\n",
            "|106.214.106.233|       Jamaica|    amazonaws.com|        95|       no|\n",
            "| 127.242.24.138|         China| surveymonkey.com|       123|       no|\n",
            "|     99.2.6.139|Czech Republic|     geocities.jp|       322|       no|\n",
            "|   237.54.11.63|         China|       amazon.com|        83|       no|\n",
            "| 252.141.157.25|         Japan|      cornell.edu|       374|       no|\n",
            "|185.220.128.248|       Belgium|       weebly.com|       389|       no|\n",
            "|   151.77.19.45|   Afghanistan|independent.co.uk|       282|       no|\n",
            "|  9.161.158.225|     Indonesia|    bloglines.com|       726|       no|\n",
            "| 156.144.61.155|Czech Republic|   slideshare.net|       657|       no|\n",
            "|   8.96.188.151|     Indonesia|          ibm.com|       517|       no|\n",
            "|      5.72.7.65|        Mexico|         youtu.be|       877|      yes|\n",
            "|227.110.112.144|       Croatia|         ehow.com|       287|       no|\n",
            "|    81.71.28.97|      Thailand|          last.fm|       588|       no|\n",
            "|  9.255.129.184|      Thailand|          mtv.com|       114|       no|\n",
            "+---------------+--------------+-----------------+----------+---------+\n",
            "only showing top 20 rows\n",
            "\n"
          ],
          "name": "stdout"
        }
      ]
    },
    {
      "cell_type": "code",
      "metadata": {
        "id": "bpPlyeh5TbE4"
      },
      "source": [
        "import pyspark.sql.functions as sqlfunct\n",
        "df1 = df.groupby('is_Mexico').agg(sqlfunct.sum(df.Bytes_used).alias('Soma'))"
      ],
      "execution_count": 23,
      "outputs": []
    },
    {
      "cell_type": "code",
      "metadata": {
        "colab": {
          "base_uri": "https://localhost:8080/"
        },
        "id": "HR5qrjdqUB_e",
        "outputId": "83675861-04c2-4c0c-b45f-2359572d16fd"
      },
      "source": [
        "df1.show()"
      ],
      "execution_count": 24,
      "outputs": [
        {
          "output_type": "stream",
          "text": [
            "+---------+--------+\n",
            "|is_Mexico|    Soma|\n",
            "+---------+--------+\n",
            "|       no|508076.0|\n",
            "|      yes|  6293.0|\n",
            "+---------+--------+\n",
            "\n"
          ],
          "name": "stdout"
        }
      ]
    },
    {
      "cell_type": "code",
      "metadata": {
        "colab": {
          "base_uri": "https://localhost:8080/"
        },
        "id": "uF69cRfwUbsP",
        "outputId": "601ab499-07b7-4f25-ce88-4d3110a1a589"
      },
      "source": [
        "df2 = df.groupby(\"Country\").agg(sqlfunct.countDistinct(df.ip_address).alias('Total'))\n",
        "df2.sort(col('Total').desc()).show()"
      ],
      "execution_count": 26,
      "outputs": [
        {
          "output_type": "stream",
          "text": [
            "+--------------+-----+\n",
            "|       Country|Total|\n",
            "+--------------+-----+\n",
            "|         China|  172|\n",
            "|     Indonesia|  114|\n",
            "|   Philippines|   65|\n",
            "|        Russia|   56|\n",
            "|        Brazil|   35|\n",
            "|        Poland|   31|\n",
            "|        Sweden|   28|\n",
            "|         Japan|   25|\n",
            "|      Portugal|   23|\n",
            "|Czech Republic|   23|\n",
            "|        France|   21|\n",
            "|          Peru|   19|\n",
            "|      Colombia|   17|\n",
            "| United States|   15|\n",
            "|       Ukraine|   14|\n",
            "|     Argentina|   14|\n",
            "|        Mexico|   13|\n",
            "|      Thailand|   12|\n",
            "|       Nigeria|   11|\n",
            "|        Canada|   11|\n",
            "+--------------+-----+\n",
            "only showing top 20 rows\n",
            "\n"
          ],
          "name": "stdout"
        }
      ]
    }
  ]
}